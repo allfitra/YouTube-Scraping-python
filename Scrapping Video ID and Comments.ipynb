{
 "cells": [
  {
   "cell_type": "markdown",
   "metadata": {
    "id": "xh9lFfeopPvH"
   },
   "source": [
    "#**INISIALISASI DAN IMPORT MODULE**"
   ]
  },
  {
   "cell_type": "code",
   "execution_count": 1,
   "metadata": {
    "colab": {
     "base_uri": "https://localhost:8080/"
    },
    "executionInfo": {
     "elapsed": 11,
     "status": "ok",
     "timestamp": 1731463248012,
     "user": {
      "displayName": "Alfitra Fadjri",
      "userId": "12618193671105764802"
     },
     "user_tz": -420
    },
    "id": "DPKVeQmT-_wY",
    "outputId": "7db35c51-3b17-4bfa-d7cb-e3cf0a22a8c3"
   },
   "outputs": [
    {
     "name": "stdout",
     "output_type": "stream",
     "text": [
      "Python 3.12.3\n"
     ]
    }
   ],
   "source": [
    "!python --version"
   ]
  },
  {
   "cell_type": "code",
   "execution_count": 2,
   "metadata": {
    "colab": {
     "base_uri": "https://localhost:8080/"
    },
    "executionInfo": {
     "elapsed": 8077,
     "status": "ok",
     "timestamp": 1731463256081,
     "user": {
      "displayName": "Alfitra Fadjri",
      "userId": "12618193671105764802"
     },
     "user_tz": -420
    },
    "id": "R8HKze7Z_V0F",
    "outputId": "3f185d9f-befe-4829-fd25-7d73027c9159"
   },
   "outputs": [
    {
     "name": "stderr",
     "output_type": "stream",
     "text": [
      "'apt-get' is not recognized as an internal or external command,\n",
      "operable program or batch file.\n"
     ]
    }
   ],
   "source": [
    "!apt-get update"
   ]
  },
  {
   "cell_type": "code",
   "execution_count": 3,
   "metadata": {
    "colab": {
     "base_uri": "https://localhost:8080/"
    },
    "executionInfo": {
     "elapsed": 9848,
     "status": "ok",
     "timestamp": 1731463265922,
     "user": {
      "displayName": "Alfitra Fadjri",
      "userId": "12618193671105764802"
     },
     "user_tz": -420
    },
    "id": "EIu0F0qQ_ctE",
    "outputId": "e0e61b5a-f086-4e39-af7f-81eb4e61c33b"
   },
   "outputs": [
    {
     "name": "stdout",
     "output_type": "stream",
     "text": [
      "Collecting selenium\n",
      "  Downloading selenium-4.27.1-py3-none-any.whl.metadata (7.1 kB)\n",
      "Collecting urllib3<3,>=1.26 (from urllib3[socks]<3,>=1.26->selenium)\n",
      "  Downloading urllib3-2.3.0-py3-none-any.whl.metadata (6.5 kB)\n",
      "Collecting trio~=0.17 (from selenium)\n",
      "  Downloading trio-0.27.0-py3-none-any.whl.metadata (8.6 kB)\n",
      "Collecting trio-websocket~=0.9 (from selenium)\n",
      "  Downloading trio_websocket-0.11.1-py3-none-any.whl.metadata (4.7 kB)\n",
      "Collecting certifi>=2021.10.8 (from selenium)\n",
      "  Downloading certifi-2024.12.14-py3-none-any.whl.metadata (2.3 kB)\n",
      "Collecting typing_extensions~=4.9 (from selenium)\n",
      "  Downloading typing_extensions-4.12.2-py3-none-any.whl.metadata (3.0 kB)\n",
      "Collecting websocket-client~=1.8 (from selenium)\n",
      "  Downloading websocket_client-1.8.0-py3-none-any.whl.metadata (8.0 kB)\n",
      "Collecting attrs>=23.2.0 (from trio~=0.17->selenium)\n",
      "  Downloading attrs-24.3.0-py3-none-any.whl.metadata (11 kB)\n",
      "Collecting sortedcontainers (from trio~=0.17->selenium)\n",
      "  Downloading sortedcontainers-2.4.0-py2.py3-none-any.whl.metadata (10 kB)\n",
      "Collecting idna (from trio~=0.17->selenium)\n",
      "  Downloading idna-3.10-py3-none-any.whl.metadata (10 kB)\n",
      "Collecting outcome (from trio~=0.17->selenium)\n",
      "  Downloading outcome-1.3.0.post0-py2.py3-none-any.whl.metadata (2.6 kB)\n",
      "Collecting sniffio>=1.3.0 (from trio~=0.17->selenium)\n",
      "  Downloading sniffio-1.3.1-py3-none-any.whl.metadata (3.9 kB)\n",
      "Collecting cffi>=1.14 (from trio~=0.17->selenium)\n",
      "  Downloading cffi-1.17.1-cp312-cp312-win_amd64.whl.metadata (1.6 kB)\n",
      "Collecting wsproto>=0.14 (from trio-websocket~=0.9->selenium)\n",
      "  Downloading wsproto-1.2.0-py3-none-any.whl.metadata (5.6 kB)\n",
      "Collecting pysocks!=1.5.7,<2.0,>=1.5.6 (from urllib3[socks]<3,>=1.26->selenium)\n",
      "  Downloading PySocks-1.7.1-py3-none-any.whl.metadata (13 kB)\n",
      "Collecting pycparser (from cffi>=1.14->trio~=0.17->selenium)\n",
      "  Downloading pycparser-2.22-py3-none-any.whl.metadata (943 bytes)\n",
      "Collecting h11<1,>=0.9.0 (from wsproto>=0.14->trio-websocket~=0.9->selenium)\n",
      "  Downloading h11-0.14.0-py3-none-any.whl.metadata (8.2 kB)\n",
      "Downloading selenium-4.27.1-py3-none-any.whl (9.7 MB)\n",
      "   ---------------------------------------- 0.0/9.7 MB ? eta -:--:--\n",
      "   ---- ----------------------------------- 1.0/9.7 MB 5.6 MB/s eta 0:00:02\n",
      "   ------ --------------------------------- 1.6/9.7 MB 4.4 MB/s eta 0:00:02\n",
      "   -------------- ------------------------- 3.4/9.7 MB 5.6 MB/s eta 0:00:02\n",
      "   ------------------ --------------------- 4.5/9.7 MB 5.6 MB/s eta 0:00:01\n",
      "   ---------------------- ----------------- 5.5/9.7 MB 5.4 MB/s eta 0:00:01\n",
      "   ------------------------- -------------- 6.3/9.7 MB 5.2 MB/s eta 0:00:01\n",
      "   ---------------------------- ----------- 6.8/9.7 MB 4.9 MB/s eta 0:00:01\n",
      "   ------------------------------ --------- 7.3/9.7 MB 4.4 MB/s eta 0:00:01\n",
      "   ------------------------------- -------- 7.6/9.7 MB 4.2 MB/s eta 0:00:01\n",
      "   ---------------------------------- ----- 8.4/9.7 MB 4.0 MB/s eta 0:00:01\n",
      "   ------------------------------------ --- 8.9/9.7 MB 3.9 MB/s eta 0:00:01\n",
      "   ------------------------------------- -- 9.2/9.7 MB 3.8 MB/s eta 0:00:01\n",
      "   ---------------------------------------- 9.7/9.7 MB 3.6 MB/s eta 0:00:00\n",
      "Downloading certifi-2024.12.14-py3-none-any.whl (164 kB)\n",
      "Downloading trio-0.27.0-py3-none-any.whl (481 kB)\n",
      "Downloading trio_websocket-0.11.1-py3-none-any.whl (17 kB)\n",
      "Downloading typing_extensions-4.12.2-py3-none-any.whl (37 kB)\n",
      "Downloading urllib3-2.3.0-py3-none-any.whl (128 kB)\n",
      "Downloading websocket_client-1.8.0-py3-none-any.whl (58 kB)\n",
      "Downloading attrs-24.3.0-py3-none-any.whl (63 kB)\n",
      "Downloading cffi-1.17.1-cp312-cp312-win_amd64.whl (181 kB)\n",
      "Downloading PySocks-1.7.1-py3-none-any.whl (16 kB)\n",
      "Downloading sniffio-1.3.1-py3-none-any.whl (10 kB)\n",
      "Downloading wsproto-1.2.0-py3-none-any.whl (24 kB)\n",
      "Downloading idna-3.10-py3-none-any.whl (70 kB)\n",
      "Downloading outcome-1.3.0.post0-py2.py3-none-any.whl (10 kB)\n",
      "Downloading sortedcontainers-2.4.0-py2.py3-none-any.whl (29 kB)\n",
      "Downloading h11-0.14.0-py3-none-any.whl (58 kB)\n",
      "Downloading pycparser-2.22-py3-none-any.whl (117 kB)\n",
      "Installing collected packages: sortedcontainers, websocket-client, urllib3, typing_extensions, sniffio, pysocks, pycparser, idna, h11, certifi, attrs, wsproto, outcome, cffi, trio, trio-websocket, selenium\n",
      "Successfully installed attrs-24.3.0 certifi-2024.12.14 cffi-1.17.1 h11-0.14.0 idna-3.10 outcome-1.3.0.post0 pycparser-2.22 pysocks-1.7.1 selenium-4.27.1 sniffio-1.3.1 sortedcontainers-2.4.0 trio-0.27.0 trio-websocket-0.11.1 typing_extensions-4.12.2 urllib3-2.3.0 websocket-client-1.8.0 wsproto-1.2.0\n"
     ]
    },
    {
     "name": "stderr",
     "output_type": "stream",
     "text": [
      "'apt' is not recognized as an internal or external command,\n",
      "operable program or batch file.\n"
     ]
    }
   ],
   "source": [
    "!pip install selenium\n",
    "!pip install bs4\n",
    "!apt install chromium-chromedriver"
   ]
  },
  {
   "cell_type": "code",
   "execution_count": 4,
   "metadata": {},
   "outputs": [],
   "source": [
    "import pandas as pd"
   ]
  },
  {
   "cell_type": "code",
   "execution_count": 7,
   "metadata": {
    "executionInfo": {
     "elapsed": 602,
     "status": "ok",
     "timestamp": 1731463297233,
     "user": {
      "displayName": "Alfitra Fadjri",
      "userId": "12618193671105764802"
     },
     "user_tz": -420
    },
    "id": "uGu_l32OBGQ4"
   },
   "outputs": [],
   "source": [
    "import time\n",
    "from bs4 import BeautifulSoup\n",
    "from selenium import webdriver\n",
    "from selenium.webdriver.common.by import By\n",
    "from selenium.webdriver.common.by import By\n",
    "from selenium.webdriver.support.ui import WebDriverWait\n",
    "from selenium.webdriver.support import expected_conditions as EC\n",
    "from selenium.webdriver.chrome.service import Service\n",
    "\n",
    "def get_driver():\n",
    "    options = webdriver.ChromeOptions()\n",
    "    options.add_argument('--headless')\n",
    "    options.add_argument('--no-sandbox')\n",
    "    options.add_argument('--disable-dev-shm-usage')\n",
    "    driver = webdriver.Chrome(options=options)\n",
    "    return driver"
   ]
  },
  {
   "cell_type": "code",
   "execution_count": 14,
   "metadata": {
    "executionInfo": {
     "elapsed": 13476,
     "status": "ok",
     "timestamp": 1731463310704,
     "user": {
      "displayName": "Alfitra Fadjri",
      "userId": "12618193671105764802"
     },
     "user_tz": -420
    },
    "id": "LAKIsPDLBSEj"
   },
   "outputs": [],
   "source": [
    "driver = get_driver()"
   ]
  },
  {
   "cell_type": "markdown",
   "metadata": {
    "id": "7Ifze7JEo5vk"
   },
   "source": [
    "#**GET LIST YOUTUBE VIDEO**"
   ]
  },
  {
   "cell_type": "code",
   "execution_count": 15,
   "metadata": {
    "id": "gPGOZJ5IKc0u"
   },
   "outputs": [],
   "source": [
    "# Function for get youtube ID\n",
    "def get_all_youtube_video_ids(search_keyword, num_results=10, scroll_attempts= 5):\n",
    "    try:\n",
    "        # Go to YouTube\n",
    "        driver.get(f'https://www.youtube.com/results?search_query={search_keyword}&sp=CAM%253D')\n",
    "\n",
    "        driver.maximize_window()\n",
    "\n",
    "        # Wait for the results to load\n",
    "        time.sleep(3)\n",
    "\n",
    "        # List to store video IDs\n",
    "        count_data = 0\n",
    "        video_urls = []\n",
    "        video_ids = []\n",
    "        video_channels = []\n",
    "        video_titles = []\n",
    "        video_times = []\n",
    "        video_views = []\n",
    "\n",
    "        # Scroll down to load more results\n",
    "        scroll_pause_time = 2  # Time to wait after each scroll\n",
    "        scroll_attempts = scroll_attempts     # Number of scrolls to load more results\n",
    "\n",
    "        for _ in range(scroll_attempts):\n",
    "            # Scroll down the page\n",
    "            driver.execute_script(\"window.scrollTo(0, document.documentElement.scrollHeight);\")\n",
    "            time.sleep(scroll_pause_time)\n",
    "\n",
    "        # Locate all video title elements\n",
    "        video_elements = driver.find_elements(By.XPATH, '//*[@id=\"dismissible\"]')\n",
    "\n",
    "        # Extract video IDs from each video link\n",
    "        for video_element in video_elements:\n",
    "            video_title = video_element.find_element(By.XPATH, '..//*[@id=\"video-title\"]')\n",
    "            video_url = video_title.get_attribute(\"href\")\n",
    "            if video_url and 'v=' in video_url:  # Only process valid video URLs\n",
    "                video_id = video_url.split('v=')[1].split('&')[0]\n",
    "                video_title = video_title.text\n",
    "\n",
    "                # Find the video channel\n",
    "                try:\n",
    "                    video_channel = video_element.find_element(By.XPATH, '..//*[@id=\"channel-info\"]').text\n",
    "                except:\n",
    "                    video_channel = None\n",
    "\n",
    "                # Find the video publish time (time ago)\n",
    "                try:\n",
    "                    video_time = video_element.find_element(By.XPATH, '..//div[@id=\"metadata-line\"]/span[2]').text\n",
    "                except:\n",
    "                    video_time = None\n",
    "\n",
    "                # Find the view count\n",
    "                try:\n",
    "                    view_count = video_element.find_element(By.XPATH, '..//*[@id=\"metadata-line\"]/span[1]').text\n",
    "                except:\n",
    "                    view_count = None\n",
    "\n",
    "                # Append to the lists\n",
    "                video_urls.append(f\"https://www.youtube.com/watch?v={video_id}\")\n",
    "                video_ids.append(video_id)\n",
    "                video_channels.append(video_channel)\n",
    "                video_titles.append(video_title)\n",
    "                video_times.append(video_time)\n",
    "                video_views.append(view_count)\n",
    "\n",
    "\n",
    "            # Stop if we've collected enough video IDs\n",
    "            if len(video_ids) >= num_results:\n",
    "                break\n",
    "\n",
    "        print(\"getting data :\", len(video_ids))\n",
    "        # Return the list of video IDs\n",
    "        return video_urls, video_ids, video_channels, video_titles, video_times, video_views\n",
    "\n",
    "    finally:\n",
    "        # Close the browser after scraping is done\n",
    "        print(\"Completed\")\n",
    "        # driver.quit()"
   ]
  },
  {
   "cell_type": "code",
   "execution_count": 16,
   "metadata": {
    "colab": {
     "base_uri": "https://localhost:8080/"
    },
    "executionInfo": {
     "elapsed": 385347,
     "status": "ok",
     "timestamp": 1731240256676,
     "user": {
      "displayName": "Alfitra Fadjri",
      "userId": "12618193671105764802"
     },
     "user_tz": -420
    },
    "id": "nAIKPyMDFqUu",
    "outputId": "51d3adb4-1722-43f1-9489-00a5af895ce6"
   },
   "outputs": [
    {
     "name": "stdout",
     "output_type": "stream",
     "text": [
      "getting data : 71\n",
      "Completed\n"
     ]
    }
   ],
   "source": [
    "search_keyword = \"indonesia\"\n",
    "num_results = 500\n",
    "scroll_attempts = 10\n",
    "video_urls, video_ids, video_channels, video_titles, video_times, video_views = get_all_youtube_video_ids(search_keyword, num_results, scroll_attempts)\n",
    "\n",
    "video_list = pd.DataFrame({\n",
    "    'Video URL': video_urls,\n",
    "    'Video ID': video_ids,\n",
    "    'Video Channel': video_channels,\n",
    "    'Video Title': video_titles,\n",
    "    'Release Time': video_times,\n",
    "    'Views': video_views\n",
    "})"
   ]
  },
  {
   "cell_type": "code",
   "execution_count": 17,
   "metadata": {},
   "outputs": [
    {
     "data": {
      "text/html": [
       "<div>\n",
       "<style scoped>\n",
       "    .dataframe tbody tr th:only-of-type {\n",
       "        vertical-align: middle;\n",
       "    }\n",
       "\n",
       "    .dataframe tbody tr th {\n",
       "        vertical-align: top;\n",
       "    }\n",
       "\n",
       "    .dataframe thead th {\n",
       "        text-align: right;\n",
       "    }\n",
       "</style>\n",
       "<table border=\"1\" class=\"dataframe\">\n",
       "  <thead>\n",
       "    <tr style=\"text-align: right;\">\n",
       "      <th></th>\n",
       "      <th>Video URL</th>\n",
       "      <th>Video ID</th>\n",
       "      <th>Video Channel</th>\n",
       "      <th>Video Title</th>\n",
       "      <th>Release Time</th>\n",
       "      <th>Views</th>\n",
       "    </tr>\n",
       "  </thead>\n",
       "  <tbody>\n",
       "    <tr>\n",
       "      <th>0</th>\n",
       "      <td>https://www.youtube.com/watch?v=cx4Xwae513g</td>\n",
       "      <td>cx4Xwae513g</td>\n",
       "      <td>Unisys Music</td>\n",
       "      <td>Force 2016 Full Movie | John Abraham | Vidyut ...</td>\n",
       "      <td>10 years ago</td>\n",
       "      <td>143M views</td>\n",
       "    </tr>\n",
       "    <tr>\n",
       "      <th>1</th>\n",
       "      <td>https://www.youtube.com/watch?v=yNKvkPJl-tg</td>\n",
       "      <td>yNKvkPJl-tg</td>\n",
       "      <td>tvOneNews</td>\n",
       "      <td>Live Streaming tvOne 24 Jam</td>\n",
       "      <td>None</td>\n",
       "      <td>2.6K watching</td>\n",
       "    </tr>\n",
       "    <tr>\n",
       "      <th>2</th>\n",
       "      <td>https://www.youtube.com/watch?v=uBIjpx2Re3M</td>\n",
       "      <td>uBIjpx2Re3M</td>\n",
       "      <td>Jason Vlogs Indonesia</td>\n",
       "      <td>Jason and the fun cop adventure Children's sto...</td>\n",
       "      <td>3 years ago</td>\n",
       "      <td>72M views</td>\n",
       "    </tr>\n",
       "    <tr>\n",
       "      <th>3</th>\n",
       "      <td>https://www.youtube.com/watch?v=aKtb7Y3qOck</td>\n",
       "      <td>aKtb7Y3qOck</td>\n",
       "      <td>Alffy Rev</td>\n",
       "      <td>“Wonderland Indonesia” by Alffy Rev ft. Novia ...</td>\n",
       "      <td>3 years ago</td>\n",
       "      <td>62M views</td>\n",
       "    </tr>\n",
       "    <tr>\n",
       "      <th>4</th>\n",
       "      <td>https://www.youtube.com/watch?v=DOOrIxw5xOw</td>\n",
       "      <td>DOOrIxw5xOw</td>\n",
       "      <td>KOMPASTV</td>\n",
       "      <td>LIVE STREAMING 24 JAM KOMPASTV</td>\n",
       "      <td>None</td>\n",
       "      <td>2.6K watching</td>\n",
       "    </tr>\n",
       "    <tr>\n",
       "      <th>...</th>\n",
       "      <td>...</td>\n",
       "      <td>...</td>\n",
       "      <td>...</td>\n",
       "      <td>...</td>\n",
       "      <td>...</td>\n",
       "      <td>...</td>\n",
       "    </tr>\n",
       "    <tr>\n",
       "      <th>66</th>\n",
       "      <td>https://www.youtube.com/watch?v=_zdcJQ-e0h0</td>\n",
       "      <td>_zdcJQ-e0h0</td>\n",
       "      <td>Bing - Bahasa Indonesia</td>\n",
       "      <td>Bing menyukai Arlo si kucing! | Bing Bahasa In...</td>\n",
       "      <td>1 year ago</td>\n",
       "      <td>2.6M views</td>\n",
       "    </tr>\n",
       "    <tr>\n",
       "      <th>67</th>\n",
       "      <td>https://www.youtube.com/watch?v=2uzwHZ6PK4Q</td>\n",
       "      <td>2uzwHZ6PK4Q</td>\n",
       "      <td>Araya Vlogs</td>\n",
       "      <td>This City WILL DISAPPEAR Under WATER: JAKARTA ...</td>\n",
       "      <td>4 months ago</td>\n",
       "      <td>2.6M views</td>\n",
       "    </tr>\n",
       "    <tr>\n",
       "      <th>68</th>\n",
       "      <td>https://www.youtube.com/watch?v=_Rt8zW0IanY</td>\n",
       "      <td>_Rt8zW0IanY</td>\n",
       "      <td>RCTI Sports</td>\n",
       "      <td>AFC U23 ASIAN CUP QATAR 2024 - QUARTER FINAL I...</td>\n",
       "      <td>7 months ago</td>\n",
       "      <td>2.5M views</td>\n",
       "    </tr>\n",
       "    <tr>\n",
       "      <th>69</th>\n",
       "      <td>https://www.youtube.com/watch?v=GbUmyFTJreA</td>\n",
       "      <td>GbUmyFTJreA</td>\n",
       "      <td>AFC Asian Cup</td>\n",
       "      <td>Full Match | AFC Asian Qualifiers™️ Road To 26...</td>\n",
       "      <td>Streamed 3 months ago</td>\n",
       "      <td>2.5M views</td>\n",
       "    </tr>\n",
       "    <tr>\n",
       "      <th>70</th>\n",
       "      <td>https://www.youtube.com/watch?v=fE7bLyVB9xk</td>\n",
       "      <td>fE7bLyVB9xk</td>\n",
       "      <td>Indonesian Idol 2025</td>\n",
       "      <td>Alasan Rafi Wiratama Ikut Indonesian Idol | Au...</td>\n",
       "      <td>2 weeks ago</td>\n",
       "      <td>2.4M views</td>\n",
       "    </tr>\n",
       "  </tbody>\n",
       "</table>\n",
       "<p>71 rows × 6 columns</p>\n",
       "</div>"
      ],
      "text/plain": [
       "                                      Video URL     Video ID  \\\n",
       "0   https://www.youtube.com/watch?v=cx4Xwae513g  cx4Xwae513g   \n",
       "1   https://www.youtube.com/watch?v=yNKvkPJl-tg  yNKvkPJl-tg   \n",
       "2   https://www.youtube.com/watch?v=uBIjpx2Re3M  uBIjpx2Re3M   \n",
       "3   https://www.youtube.com/watch?v=aKtb7Y3qOck  aKtb7Y3qOck   \n",
       "4   https://www.youtube.com/watch?v=DOOrIxw5xOw  DOOrIxw5xOw   \n",
       "..                                          ...          ...   \n",
       "66  https://www.youtube.com/watch?v=_zdcJQ-e0h0  _zdcJQ-e0h0   \n",
       "67  https://www.youtube.com/watch?v=2uzwHZ6PK4Q  2uzwHZ6PK4Q   \n",
       "68  https://www.youtube.com/watch?v=_Rt8zW0IanY  _Rt8zW0IanY   \n",
       "69  https://www.youtube.com/watch?v=GbUmyFTJreA  GbUmyFTJreA   \n",
       "70  https://www.youtube.com/watch?v=fE7bLyVB9xk  fE7bLyVB9xk   \n",
       "\n",
       "              Video Channel  \\\n",
       "0              Unisys Music   \n",
       "1                 tvOneNews   \n",
       "2     Jason Vlogs Indonesia   \n",
       "3                 Alffy Rev   \n",
       "4                  KOMPASTV   \n",
       "..                      ...   \n",
       "66  Bing - Bahasa Indonesia   \n",
       "67              Araya Vlogs   \n",
       "68              RCTI Sports   \n",
       "69            AFC Asian Cup   \n",
       "70     Indonesian Idol 2025   \n",
       "\n",
       "                                          Video Title           Release Time  \\\n",
       "0   Force 2016 Full Movie | John Abraham | Vidyut ...           10 years ago   \n",
       "1                         Live Streaming tvOne 24 Jam                   None   \n",
       "2   Jason and the fun cop adventure Children's sto...            3 years ago   \n",
       "3   “Wonderland Indonesia” by Alffy Rev ft. Novia ...            3 years ago   \n",
       "4                      LIVE STREAMING 24 JAM KOMPASTV                   None   \n",
       "..                                                ...                    ...   \n",
       "66  Bing menyukai Arlo si kucing! | Bing Bahasa In...             1 year ago   \n",
       "67  This City WILL DISAPPEAR Under WATER: JAKARTA ...           4 months ago   \n",
       "68  AFC U23 ASIAN CUP QATAR 2024 - QUARTER FINAL I...           7 months ago   \n",
       "69  Full Match | AFC Asian Qualifiers™️ Road To 26...  Streamed 3 months ago   \n",
       "70  Alasan Rafi Wiratama Ikut Indonesian Idol | Au...            2 weeks ago   \n",
       "\n",
       "            Views  \n",
       "0      143M views  \n",
       "1   2.6K watching  \n",
       "2       72M views  \n",
       "3       62M views  \n",
       "4   2.6K watching  \n",
       "..            ...  \n",
       "66     2.6M views  \n",
       "67     2.6M views  \n",
       "68     2.5M views  \n",
       "69     2.5M views  \n",
       "70     2.4M views  \n",
       "\n",
       "[71 rows x 6 columns]"
      ]
     },
     "execution_count": 17,
     "metadata": {},
     "output_type": "execute_result"
    }
   ],
   "source": [
    "video_list"
   ]
  },
  {
   "cell_type": "code",
   "execution_count": null,
   "metadata": {
    "id": "ZKL_NYDWG0dv"
   },
   "outputs": [],
   "source": [
    "video_list.to_csv('video_list.csv', index=False, encoding='utf-8')"
   ]
  },
  {
   "cell_type": "markdown",
   "metadata": {
    "id": "XkPX3PA9pGEX"
   },
   "source": [
    "#**GET COMMENTS DATASET**"
   ]
  },
  {
   "cell_type": "code",
   "execution_count": 23,
   "metadata": {
    "executionInfo": {
     "elapsed": 370,
     "status": "ok",
     "timestamp": 1731466398883,
     "user": {
      "displayName": "Alfitra Fadjri",
      "userId": "12618193671105764802"
     },
     "user_tz": -420
    },
    "id": "8-l6KOVKZngS"
   },
   "outputs": [],
   "source": [
    "def getCommentsData(video_ID):\n",
    "  driver.get(f'https://www.youtube.com/watch?v={video_ID}')\n",
    "#   driver.get(video_ID)\n",
    "  # Initialize WebDriver using Chrome Browser\n",
    "  driver.maximize_window()\n",
    "\n",
    "  # Scroll down to load comments\n",
    "  for _ in range(10):\n",
    "      driver.execute_script(\"window.scrollTo(0, document.documentElement.scrollHeight);\")\n",
    "      time.sleep(2)\n",
    "\n",
    "  # Wait for the comments section to load\n",
    "  comments_section = WebDriverWait(driver, 10).until(\n",
    "      EC.presence_of_element_located((By.XPATH, \"/html/body/ytd-app/div[1]/ytd-page-manager/ytd-watch-flexy/div[5]/div[1]/div/div[2]/ytd-comments/ytd-item-section-renderer/div[3]\"))\n",
    "  )\n",
    "\n",
    "  # for the video author section to load\n",
    "  author_section = driver.find_element(By.XPATH, \"/html/body/ytd-app/div[1]/ytd-page-manager/ytd-watch-flexy/div[5]/div[1]/div/div[2]/ytd-watch-metadata/div/div[2]/div[1]/ytd-video-owner-renderer/div[1]/ytd-channel-name/div/div/yt-formatted-string\")\n",
    "\n",
    "  # Extract the HTML content of the section\n",
    "  comments_html = comments_section.get_attribute('innerHTML')\n",
    "  author_html = author_section.get_attribute('innerHTML')\n",
    "\n",
    "  # Parse the HTML content with BeautifulSoup\n",
    "  soup = BeautifulSoup(comments_html, 'html.parser')\n",
    "  soup_author = BeautifulSoup(author_html, 'html.parser')\n",
    "\n",
    "  # Extract the text\n",
    "  comments = [comment.text for comment in soup.find_all('yt-attributed-string', {'class': 'style-scope ytd-comment-view-model'})][0::2]\n",
    "  usernames = [username.text.strip() for username in soup.find_all('span', {'class': 'style-scope ytd-comment-view-model style-scope ytd-comment-view-model'})]\n",
    "  author = [author.text.strip() for author in soup_author.find_all('a', {'class': 'yt-simple-endpoint style-scope yt-formatted-string'})]\n",
    "\n",
    "  channels = [author[0]] * len(comments) if len(comments) > 0 else [author[0]]\n",
    "\n",
    "  print(f\"Getting Comments : {len(comments)} Comments, from : {author[0]}\")\n",
    "  return comments, usernames, channels"
   ]
  },
  {
   "cell_type": "code",
   "execution_count": 24,
   "metadata": {
    "executionInfo": {
     "elapsed": 1224,
     "status": "ok",
     "timestamp": 1731466426974,
     "user": {
      "displayName": "Alfitra Fadjri",
      "userId": "12618193671105764802"
     },
     "user_tz": -420
    },
    "id": "sSW4ujcDRond"
   },
   "outputs": [],
   "source": [
    "# run driver\n",
    "driver = get_driver()"
   ]
  },
  {
   "cell_type": "code",
   "execution_count": 28,
   "metadata": {
    "colab": {
     "base_uri": "https://localhost:8080/"
    },
    "collapsed": true,
    "executionInfo": {
     "elapsed": 3481487,
     "status": "ok",
     "timestamp": 1731469908963,
     "user": {
      "displayName": "Alfitra Fadjri",
      "userId": "12618193671105764802"
     },
     "user_tz": -420
    },
    "id": "cu60ps2z9Pns",
    "outputId": "dbb46b2f-85cb-4d0b-eeb6-4572acaaa311"
   },
   "outputs": [
    {
     "name": "stdout",
     "output_type": "stream",
     "text": [
      "Getting Comments : 160 Comments, from : Indonesian Idol 2025\n"
     ]
    }
   ],
   "source": [
    "# input video ID\n",
    "video_url = 'fE7bLyVB9xk'\n",
    "\n",
    "comments, usernames, channels = getCommentsData(video_url)"
   ]
  },
  {
   "cell_type": "code",
   "execution_count": 30,
   "metadata": {
    "executionInfo": {
     "elapsed": 3,
     "status": "ok",
     "timestamp": 1731470135928,
     "user": {
      "displayName": "Alfitra Fadjri",
      "userId": "12618193671105764802"
     },
     "user_tz": -420
    },
    "id": "Ydhna4swG-Ou"
   },
   "outputs": [
    {
     "data": {
      "text/html": [
       "<div>\n",
       "<style scoped>\n",
       "    .dataframe tbody tr th:only-of-type {\n",
       "        vertical-align: middle;\n",
       "    }\n",
       "\n",
       "    .dataframe tbody tr th {\n",
       "        vertical-align: top;\n",
       "    }\n",
       "\n",
       "    .dataframe thead th {\n",
       "        text-align: right;\n",
       "    }\n",
       "</style>\n",
       "<table border=\"1\" class=\"dataframe\">\n",
       "  <thead>\n",
       "    <tr style=\"text-align: right;\">\n",
       "      <th></th>\n",
       "      <th>Username</th>\n",
       "      <th>Comment</th>\n",
       "    </tr>\n",
       "  </thead>\n",
       "  <tbody>\n",
       "    <tr>\n",
       "      <th>0</th>\n",
       "      <td>@rafiadityawiratama5315</td>\n",
       "      <td>Terima kasih semuanya, Atas dukungan serta apr...</td>\n",
       "    </tr>\n",
       "    <tr>\n",
       "      <th>1</th>\n",
       "      <td>@rickyfe1055</td>\n",
       "      <td>Salah satu kontestan yg bakal lolos masuk spek...</td>\n",
       "    </tr>\n",
       "    <tr>\n",
       "      <th>2</th>\n",
       "      <td>@HeraldGaming90</td>\n",
       "      <td>Tapi gw seneng sih sama Pak Anang, ada makna t...</td>\n",
       "    </tr>\n",
       "    <tr>\n",
       "      <th>3</th>\n",
       "      <td>@akbarfadillah4929</td>\n",
       "      <td>Semangat pejuang semester akhir, gak mudah kul...</td>\n",
       "    </tr>\n",
       "    <tr>\n",
       "      <th>4</th>\n",
       "      <td>@dennissitompul1901</td>\n",
       "      <td>Damn ! suaranya magic banget, berkarakter, mar...</td>\n",
       "    </tr>\n",
       "    <tr>\n",
       "      <th>...</th>\n",
       "      <td>...</td>\n",
       "      <td>...</td>\n",
       "    </tr>\n",
       "    <tr>\n",
       "      <th>155</th>\n",
       "      <td>@InfoDite27</td>\n",
       "      <td>Asli kerennn.. joshhh</td>\n",
       "    </tr>\n",
       "    <tr>\n",
       "      <th>156</th>\n",
       "      <td>@dodiprananda</td>\n",
       "      <td>auto jadi jagoan gue untuk musim ini. Selamat ...</td>\n",
       "    </tr>\n",
       "    <tr>\n",
       "      <th>157</th>\n",
       "      <td>@ikakurniawati9150</td>\n",
       "      <td>Menyaalaaaa Rafiiiiiiiii.. Doa Mamamu dan org2...</td>\n",
       "    </tr>\n",
       "    <tr>\n",
       "      <th>158</th>\n",
       "      <td>@fadiaainun</td>\n",
       "      <td>Enakkk pwol suaranya, it's goes to top 5</td>\n",
       "    </tr>\n",
       "    <tr>\n",
       "      <th>159</th>\n",
       "      <td>@DeviAfrida</td>\n",
       "      <td>ENAK BANGET SUARA LU BANG</td>\n",
       "    </tr>\n",
       "  </tbody>\n",
       "</table>\n",
       "<p>160 rows × 2 columns</p>\n",
       "</div>"
      ],
      "text/plain": [
       "                    Username  \\\n",
       "0    @rafiadityawiratama5315   \n",
       "1               @rickyfe1055   \n",
       "2            @HeraldGaming90   \n",
       "3         @akbarfadillah4929   \n",
       "4        @dennissitompul1901   \n",
       "..                       ...   \n",
       "155              @InfoDite27   \n",
       "156            @dodiprananda   \n",
       "157       @ikakurniawati9150   \n",
       "158              @fadiaainun   \n",
       "159              @DeviAfrida   \n",
       "\n",
       "                                               Comment  \n",
       "0    Terima kasih semuanya, Atas dukungan serta apr...  \n",
       "1    Salah satu kontestan yg bakal lolos masuk spek...  \n",
       "2    Tapi gw seneng sih sama Pak Anang, ada makna t...  \n",
       "3    Semangat pejuang semester akhir, gak mudah kul...  \n",
       "4    Damn ! suaranya magic banget, berkarakter, mar...  \n",
       "..                                                 ...  \n",
       "155                              Asli kerennn.. joshhh  \n",
       "156  auto jadi jagoan gue untuk musim ini. Selamat ...  \n",
       "157  Menyaalaaaa Rafiiiiiiiii.. Doa Mamamu dan org2...  \n",
       "158           Enakkk pwol suaranya, it's goes to top 5  \n",
       "159                          ENAK BANGET SUARA LU BANG  \n",
       "\n",
       "[160 rows x 2 columns]"
      ]
     },
     "execution_count": 30,
     "metadata": {},
     "output_type": "execute_result"
    }
   ],
   "source": [
    "comments_dataset = pd.DataFrame({\n",
    "    'Username': usernames,\n",
    "    'Comment': comments\n",
    "})\n",
    "\n",
    "comments_dataset"
   ]
  },
  {
   "cell_type": "code",
   "execution_count": 27,
   "metadata": {
    "executionInfo": {
     "elapsed": 313,
     "status": "ok",
     "timestamp": 1731470147540,
     "user": {
      "displayName": "Alfitra Fadjri",
      "userId": "12618193671105764802"
     },
     "user_tz": -420
    },
    "id": "MNz1AFFI17Yd"
   },
   "outputs": [],
   "source": [
    "comments_dataset.to_csv('Comments_Dataset.csv', index=True, encoding='utf-8')"
   ]
  }
 ],
 "metadata": {
  "colab": {
   "authorship_tag": "ABX9TyOXaZGBgMFt/TdEXXSjo8I2",
   "collapsed_sections": [
    "xh9lFfeopPvH",
    "7Ifze7JEo5vk",
    "XkPX3PA9pGEX",
    "UwONfJb5fhxg"
   ],
   "provenance": []
  },
  "kernelspec": {
   "display_name": "Python 3",
   "name": "python3"
  },
  "language_info": {
   "codemirror_mode": {
    "name": "ipython",
    "version": 3
   },
   "file_extension": ".py",
   "mimetype": "text/x-python",
   "name": "python",
   "nbconvert_exporter": "python",
   "pygments_lexer": "ipython3",
   "version": "3.12.3"
  }
 },
 "nbformat": 4,
 "nbformat_minor": 0
}
